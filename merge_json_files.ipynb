{
	"metadata": {
		"kernelspec": {
			"name": "glue_pyspark",
			"display_name": "Glue PySpark",
			"language": "python"
		},
		"language_info": {
			"name": "Python_Glue_Session",
			"mimetype": "text/x-python",
			"codemirror_mode": {
				"name": "python",
				"version": 3
			},
			"pygments_lexer": "python3",
			"file_extension": ".py"
		}
	},
	"nbformat_minor": 4,
	"nbformat": 4,
	"cells": [
		{
			"cell_type": "markdown",
			"source": "# AWS Glue Studio Notebook\n##### You are now running a AWS Glue Studio notebook; To start using your notebook you need to start an AWS Glue Interactive Session.\n",
			"metadata": {
				"editable": true,
				"trusted": true
			}
		},
		{
			"cell_type": "markdown",
			"source": "#### Optional: Run this cell to see available notebook commands (\"magics\").\n",
			"metadata": {
				"editable": true,
				"trusted": true
			}
		},
		{
			"cell_type": "code",
			"source": "%help",
			"metadata": {
				"trusted": true,
				"editable": true
			},
			"execution_count": null,
			"outputs": []
		},
		{
			"cell_type": "markdown",
			"source": "####  Run this cell to set up and start your interactive session.\n",
			"metadata": {
				"editable": true,
				"trusted": true
			}
		},
		{
			"cell_type": "code",
			"source": "%idle_timeout 2880\n%glue_version 4.0\n%worker_type G.1X\n%number_of_workers 5\n\nimport sys\nfrom awsglue.transforms import *\nfrom awsglue.utils import getResolvedOptions\nfrom pyspark.context import SparkContext\nfrom awsglue.context import GlueContext\nfrom awsglue.job import Job\nfrom awsglue.dynamicframe import DynamicFrame\nfrom pyspark.sql.functions import col, explode_outer, concat, lit\nfrom pyspark.sql.types import StructType, ArrayType\n\n  \nsc = SparkContext.getOrCreate()\nglueContext = GlueContext(sc)\nspark = glueContext.spark_session\njob = Job(glueContext)",
			"metadata": {
				"trusted": true,
				"editable": true
			},
			"execution_count": 1,
			"outputs": [
				{
					"name": "stdout",
					"text": "Welcome to the Glue Interactive Sessions Kernel\nFor more information on available magic commands, please type %help in any new cell.\n\nPlease view our Getting Started page to access the most up-to-date information on the Interactive Sessions kernel: https://docs.aws.amazon.com/glue/latest/dg/interactive-sessions.html\nInstalled kernel version: 1.0.5 \nCurrent idle_timeout is None minutes.\nidle_timeout has been set to 2880 minutes.\nSetting Glue version to: 4.0\nPrevious worker type: None\nSetting new worker type to: G.1X\nPrevious number of workers: None\nSetting new number of workers to: 5\nTrying to create a Glue session for the kernel.\nSession Type: glueetl\nWorker Type: G.1X\nNumber of Workers: 5\nIdle Timeout: 2880\nSession ID: dd335e2a-98d5-421b-af7c-12752a88a6d2\nApplying the following default arguments:\n--glue_kernel_version 1.0.5\n--enable-glue-datacatalog true\nWaiting for session dd335e2a-98d5-421b-af7c-12752a88a6d2 to get into ready status...\nSession dd335e2a-98d5-421b-af7c-12752a88a6d2 has been created.\n\n",
					"output_type": "stream"
				}
			]
		},
		{
			"cell_type": "code",
			"source": "#### Input and output file paths",
			"metadata": {
				"trusted": true,
				"tags": []
			},
			"execution_count": 6,
			"outputs": []
		},
		{
			"cell_type": "code",
			"source": "customers_path = \"s3://aws-glue-vsb-us-east-2/shopping-details/input/users.json\"\norders_path =  \"s3://aws-glue-vsb-us-east-2/shopping-details/input/orders.json\"\nproducts_path =  \"s3://aws-glue-vsb-us-east-2/shopping-details/input/products.json\"\n\noutput_path =  \"s3://aws-glue-vsb-us-east-2/shopping-details/merged_data/\"",
			"metadata": {
				"trusted": true,
				"tags": []
			},
			"execution_count": 21,
			"outputs": [
				{
					"name": "stdout",
					"text": "\n",
					"output_type": "stream"
				}
			]
		},
		{
			"cell_type": "code",
			"source": "### Function to flatten json file",
			"metadata": {
				"trusted": true,
				"tags": []
			},
			"execution_count": 7,
			"outputs": []
		},
		{
			"cell_type": "code",
			"source": "def flatten_df(df):\n    complex_fields = dict([(field.name, field.dataType)\n                           for field in df.schema.fields\n                           if isinstance(field.dataType, ArrayType) or isinstance(field.dataType, StructType)])\n    while len(complex_fields) != 0:\n        col_name = list(complex_fields.keys())[0]\n        if isinstance(complex_fields[col_name], StructType):\n            expanded = [col(col_name + '.' + k).alias(col_name + '_' + k) for k in [n.name for n in complex_fields[col_name]]]\n            df = df.select(\"*\", *expanded).drop(col_name)\n        elif isinstance(complex_fields[col_name], ArrayType):\n            df = df.withColumn(col_name, explode_outer(col_name))\n        complex_fields = dict([(field.name, field.dataType)\n                               for field in df.schema.fields\n                               if isinstance(field.dataType, ArrayType) or isinstance(field.dataType, StructType)])\n    return df",
			"metadata": {
				"trusted": true,
				"tags": []
			},
			"execution_count": 13,
			"outputs": [
				{
					"name": "stdout",
					"text": "\n",
					"output_type": "stream"
				}
			]
		},
		{
			"cell_type": "markdown",
			"source": "#### Creating DynamicFrames for the files in the input folder\n",
			"metadata": {
				"editable": true,
				"trusted": true
			}
		},
		{
			"cell_type": "code",
			"source": "source_dyf = glueContext.create_dynamic_frame.from_catalog(database='shopping_db', table_name='order_details_schema')\nsource_dyf.printSchema()\n\ndf_customers = glueContext.create_dynamic_frame.from_catalog(database='shopping_db', table_name='customers_users_json').toDF()\ndf_orders = glueContext.create_dynamic_frame.from_catalog(database='shopping_db', table_name='orders_json').toDF()\ndf_products = glueContext.create_dynamic_frame.from_catalog(database='shopping_db', table_name='products_json').toDF()",
			"metadata": {
				"trusted": true,
				"editable": true
			},
			"execution_count": 14,
			"outputs": [
				{
					"name": "stdout",
					"text": "root\n|-- user_id: long\n|-- full_name: string\n|-- email: string\n|-- order_id: long\n|-- order_date: string\n|-- item_id: string\n|-- item_product_name: string\n|-- quantity: long\n|-- price: double\n|-- total_amount: double\n|-- product_product_name: string\n|-- category: string\n|-- stock_quantity: long\n",
					"output_type": "stream"
				}
			]
		},
		{
			"cell_type": "markdown",
			"source": "#### Flatten the dataframes and rename/transform the columns as per the requirement\n",
			"metadata": {
				"editable": true,
				"trusted": true
			}
		},
		{
			"cell_type": "code",
			"source": "df_flatten_customers = flatten_df(df_customers)\ndf_flatten_orders = flatten_df(df_orders)\ndf_flatten_products = flatten_df(df_products)\n\ndf_flatten_customers = df_flatten_customers\\\n                                .withColumn(\"full_name\", concat(df_flatten_customers[\"users_name_first_name\"], lit(\" \"), df_flatten_customers[\"users_name_last_name\"])) \\\n                                .withColumnRenamed(\"users_user_id\", \"user_id\") \\\n                                .withColumnRenamed(\"users_contact_email\", \"email\")\n\ndf_flatten_orders = df_flatten_orders\\\n                                .withColumnRenamed(\"orders_order_id\", \"order_id\") \\\n                                .withColumnRenamed(\"orders_order_date\", \"order_date\") \\\n                                .withColumnRenamed(\"orders_items_item_id\", \"item_id\") \\\n                                .withColumnRenamed(\"orders_items_product_name\", \"item_product_name\") \\\n                                .withColumnRenamed(\"orders_items_quantity\", \"quantity\") \\\n                                .withColumnRenamed(\"orders_items_price\", \"price\") \\\n                                .withColumnRenamed(\"orders_total_amount\", \"total_amount\")\n\ndf_flatten_products = df_flatten_products\\\n                                .withColumnRenamed(\"products_category\", \"category\") \\\n                                .withColumnRenamed(\"products_stock_quantity\", \"stock_quantity\")\n\ndf_flatten_customers.printSchema()\ndf_flatten_orders.printSchema()\ndf_flatten_products.printSchema()",
			"metadata": {
				"trusted": true,
				"editable": true
			},
			"execution_count": 15,
			"outputs": [
				{
					"name": "stdout",
					"text": "root\n |-- user_id: string (nullable = true)\n |-- users_name_first_name: string (nullable = true)\n |-- users_name_last_name: string (nullable = true)\n |-- email: string (nullable = true)\n |-- users_contact_phone: string (nullable = true)\n |-- users_address_home_street: string (nullable = true)\n |-- users_address_home_city: string (nullable = true)\n |-- users_address_home_zipcode: string (nullable = true)\n |-- users_address_office_street: string (nullable = true)\n |-- users_address_office_city: string (nullable = true)\n |-- users_address_office_zipcode: string (nullable = true)\n |-- full_name: string (nullable = true)\n\nroot\n |-- order_id: string (nullable = true)\n |-- orders_customer_id: string (nullable = true)\n |-- order_date: string (nullable = true)\n |-- total_amount: double (nullable = true)\n |-- item_id: string (nullable = true)\n |-- item_product_name: string (nullable = true)\n |-- quantity: integer (nullable = true)\n |-- price: double (nullable = true)\n\nroot\n |-- products_product_id: string (nullable = true)\n |-- products_product_name: string (nullable = true)\n |-- category: string (nullable = true)\n |-- products_price: double (nullable = true)\n |-- stock_quantity: integer (nullable = true)\n",
					"output_type": "stream"
				}
			]
		},
		{
			"cell_type": "markdown",
			"source": "#### Merge the dataframes and select the required columns\n",
			"metadata": {
				"editable": true,
				"trusted": true
			}
		},
		{
			"cell_type": "code",
			"source": "merge_df = df_flatten_customers.join(df_flatten_orders, df_flatten_customers.user_id == df_flatten_orders.orders_customer_id, \"inner\") \\\n                               .join(df_flatten_products, df_flatten_orders.item_product_name == df_flatten_products.products_product_name, \"inner\") \\\n                               .select(df_flatten_customers['user_id'], df_flatten_customers['full_name'], df_flatten_customers['email'],\n                                       df_flatten_orders['order_id'], df_flatten_orders['order_date'], df_flatten_orders['item_id'],\n                                      df_flatten_orders['item_product_name'], df_flatten_orders['quantity'], df_flatten_orders['price'],df_flatten_orders['total_amount'], \n                                      df_flatten_products['products_product_name'], df_flatten_products['category'], df_flatten_products['stock_quantity']) \\\n                                .withColumnRenamed('products_product_name', 'product_product_name') \\\n                                .orderBy(df_flatten_customers['user_id'])\n\nmerge_df.show(30)",
			"metadata": {
				"trusted": true,
				"editable": true
			},
			"execution_count": 17,
			"outputs": [
				{
					"name": "stdout",
					"text": "root\n |-- user_id: string (nullable = true)\n |-- full_name: string (nullable = true)\n |-- email: string (nullable = true)\n |-- order_id: string (nullable = true)\n |-- order_date: string (nullable = true)\n |-- item_id: string (nullable = true)\n |-- item_product_name: string (nullable = true)\n |-- quantity: integer (nullable = true)\n |-- price: double (nullable = true)\n |-- total_amount: double (nullable = true)\n |-- product_product_name: string (nullable = true)\n |-- category: string (nullable = true)\n |-- stock_quantity: integer (nullable = true)\n\n+-------+-----------------+--------------------+--------+----------+-------+-------------------+--------+------+------------+--------------------+-----------+--------------+\n|user_id|        full_name|               email|order_id|order_date|item_id|  item_product_name|quantity| price|total_amount|product_product_name|   category|stock_quantity|\n+-------+-----------------+--------------------+--------+----------+-------+-------------------+--------+------+------------+--------------------+-----------+--------------+\n|   1001|         John Doe|  john.doe@email.com|    5001|2024-01-15|   B456|              Mouse|       2|  25.0|      1250.0|               Mouse|Electronics|           200|\n|   1001|         John Doe|  john.doe@email.com|    5001|2024-01-15|   A123|             Laptop|       1|1200.0|      1250.0|              Laptop|Electronics|            50|\n|   1002|       Jane Smith|jane.smith@email.com|    5002|2024-01-16|   C789|           Keyboard|       1|  75.0|        75.0|            Keyboard|Electronics|           150|\n|   1003|    Alice Johnson|alice.johnson@ema...|    5003|2024-01-17|   D012|            Monitor|       2| 200.0|       400.0|             Monitor|Electronics|            70|\n|   1004|     Bob Williams|bob.williams@emai...|    5004|2024-01-18|   E345|            Printer|       1| 150.0|       150.0|             Printer|Electronics|            30|\n|   1005|      Emily Brown|emily.brown@email...|    5005|2024-01-19|   F678|             Tablet|       1| 300.0|       300.0|              Tablet|Electronics|            60|\n|   1006|      Chris Davis|chris.davis@email...|    5006|2024-01-20|   G901|         Headphones|       1| 100.0|       100.0|          Headphones|Electronics|           100|\n|   1007|     David Miller|david.miller@emai...|    5007|2024-01-21|   H234|             Webcam|       1|  50.0|        50.0|              Webcam|Electronics|            80|\n|   1008|     Olivia Moore|olivia.moore@emai...|    5008|2024-01-22|   I567|         Smartphone|       1| 700.0|       700.0|          Smartphone|Electronics|            40|\n|   1009|    Sophia Taylor|sophia.taylor@ema...|    5009|2024-01-23|   J890|External Hard Drive|       1| 150.0|       150.0| External Hard Drive|Electronics|            90|\n|   1010|   James Anderson|james.anderson@em...|    5010|2024-01-24|   K123|    USB Flash Drive|       3|  30.0|        90.0|     USB Flash Drive|Electronics|           300|\n|   1011|      Liam Thomas|liam.thomas@email...|    5011|2024-01-25|   L456|         Smartwatch|       1| 200.0|       200.0|          Smartwatch|Electronics|            50|\n|   1012|  Charlotte White|charlotte.white@e...|    5012|2024-01-26|   M789|  Bluetooth Speaker|       1| 120.0|       120.0|   Bluetooth Speaker|Electronics|            80|\n|   1013|Isabella Martinez|isabella.martinez...|    5013|2024-01-27|   N012|             Camera|       1| 600.0|       600.0|              Camera|Electronics|            20|\n|   1014|  Mason Hernandez|mason.hernandez@e...|    5014|2024-01-28|   O345|              Drone|       1| 400.0|       400.0|               Drone|Electronics|            25|\n|   1015|        Mia Lopez| mia.lopez@email.com|    5015|2024-01-29|   P678|         VR Headset|       1| 250.0|       250.0|          VR Headset|Electronics|            30|\n|   1016|   Lucas Gonzalez|lucas.gonzalez@em...|    5016|2024-01-30|   Q901|     Gaming Console|       1| 500.0|       500.0|      Gaming Console|Electronics|            40|\n|   1017|    Amelia Nguyen|amelia.nguyen@ema...|    5017|2024-01-31|   R234|             Router|       1|  80.0|        80.0|              Router|Electronics|            60|\n|   1018|        Ethan Lee| ethan.lee@email.com|    5018|2024-02-01|   S567|           Keyboard|       2|  70.0|       140.0|            Keyboard|Electronics|           150|\n|   1019|      Harper King|harper.king@email...|    5019|2024-02-02|   T890|              Mouse|       3|  20.0|        60.0|               Mouse|Electronics|           200|\n|   1022| Michael Robinson|michael.robinson@...|    5022|2024-02-05|   W789|  Bluetooth Earbuds|       1| 130.0|       130.0|   Bluetooth Earbuds|Electronics|            70|\n|   1023|      Ella Harris|ella.harris@email...|    5023|2024-02-06|   X012| Smartwatch Charger|       1|  25.0|        25.0|  Smartwatch Charger|Accessories|           150|\n|   1024|    Daniel Garcia|daniel.garcia@ema...|    5024|2024-02-07|   Y345|        Camera Lens|       1| 350.0|       350.0|         Camera Lens|Accessories|            30|\n|   1025|   Grace Martinez|grace.martinez@em...|    5025|2024-02-08|   Z678|       Tablet Stand|       1|  40.0|        40.0|        Tablet Stand|Accessories|            80|\n|   1026|     Samuel Young|samuel.young@emai...|    5026|2024-02-09|   A234|          Desk Lamp|       2|  60.0|       120.0|           Desk Lamp|  Furniture|            50|\n|   1027|      Avery Clark|avery.clark@email...|    5027|2024-02-10|   B567|       Office Chair|       1| 150.0|       150.0|        Office Chair|  Furniture|            20|\n|   1028|     Sofia Walker|sofia.walker@emai...|    5028|2024-02-11|   C890|     Desk Organizer|       1|  25.0|        25.0|      Desk Organizer|  Furniture|           100|\n|   1029|        Levi Hall| levi.hall@email.com|    5029|2024-02-12|   D123|       Laptop Stand|       1|  45.0|        45.0|        Laptop Stand|  Furniture|            70|\n|   1030|   Benjamin Allen|benjamin.allen@em...|    5030|2024-02-13|   E456|      Monitor Stand|       1|  35.0|        35.0|       Monitor Stand|  Furniture|            90|\n+-------+-----------------+--------------------+--------+----------+-------+-------------------+--------+------+------------+--------------------+-----------+--------------+\n",
					"output_type": "stream"
				}
			]
		},
		{
			"cell_type": "code",
			"source": "### Applying the source schema to the merge dataframe",
			"metadata": {},
			"execution_count": null,
			"outputs": []
		},
		{
			"cell_type": "code",
			"source": "# Convert DynamicFrame to DataFrame to get the schema\nsource_df = source_dyf.toDF()\nsource_schema = source_df.schema\n\n# Function to apply the source schema to the joined DataFrame\ndef apply_schema(df, schema):\n    for field in schema.fields:\n        if field.name in df.columns:\n            df = df.withColumn(field.name, col(field.name).cast(field.dataType))\n    return df.select(*[field.name for field in schema.fields])\n\nmerge_df.printSchema()\nsource_dyf.printSchema()\n\nresult_df = apply_schema(merge_df, source_schema)\n\nresult_df.printSchema()\nresult_df.show(30)\nmerge_dyf = DynamicFrame.fromDF(result_df, glueContext, \"merge_dyf\")\nmerge_dyf.printSchema()",
			"metadata": {
				"trusted": true,
				"tags": []
			},
			"execution_count": 23,
			"outputs": [
				{
					"name": "stdout",
					"text": "root\n |-- user_id: string (nullable = true)\n |-- full_name: string (nullable = true)\n |-- email: string (nullable = true)\n |-- order_id: string (nullable = true)\n |-- order_date: string (nullable = true)\n |-- item_id: string (nullable = true)\n |-- item_product_name: string (nullable = true)\n |-- quantity: integer (nullable = true)\n |-- price: double (nullable = true)\n |-- total_amount: double (nullable = true)\n |-- product_product_name: string (nullable = true)\n |-- category: string (nullable = true)\n |-- stock_quantity: integer (nullable = true)\n\nroot\n|-- user_id: long\n|-- full_name: string\n|-- email: string\n|-- order_id: long\n|-- order_date: string\n|-- item_id: string\n|-- item_product_name: string\n|-- quantity: long\n|-- price: double\n|-- total_amount: double\n|-- product_product_name: string\n|-- category: string\n|-- stock_quantity: long\n\nroot\n |-- user_id: long (nullable = true)\n |-- full_name: string (nullable = true)\n |-- email: string (nullable = true)\n |-- order_id: long (nullable = true)\n |-- order_date: string (nullable = true)\n |-- item_id: string (nullable = true)\n |-- item_product_name: string (nullable = true)\n |-- quantity: long (nullable = true)\n |-- price: double (nullable = true)\n |-- total_amount: double (nullable = true)\n |-- product_product_name: string (nullable = true)\n |-- category: string (nullable = true)\n |-- stock_quantity: long (nullable = true)\n\n+-------+-----------------+--------------------+--------+----------+-------+-------------------+--------+------+------------+--------------------+-----------+--------------+\n|user_id|        full_name|               email|order_id|order_date|item_id|  item_product_name|quantity| price|total_amount|product_product_name|   category|stock_quantity|\n+-------+-----------------+--------------------+--------+----------+-------+-------------------+--------+------+------------+--------------------+-----------+--------------+\n|   1001|         John Doe|  john.doe@email.com|    5001|2024-01-15|   A123|             Laptop|       1|1200.0|      1250.0|              Laptop|Electronics|            50|\n|   1001|         John Doe|  john.doe@email.com|    5001|2024-01-15|   B456|              Mouse|       2|  25.0|      1250.0|               Mouse|Electronics|           200|\n|   1002|       Jane Smith|jane.smith@email.com|    5002|2024-01-16|   C789|           Keyboard|       1|  75.0|        75.0|            Keyboard|Electronics|           150|\n|   1003|    Alice Johnson|alice.johnson@ema...|    5003|2024-01-17|   D012|            Monitor|       2| 200.0|       400.0|             Monitor|Electronics|            70|\n|   1004|     Bob Williams|bob.williams@emai...|    5004|2024-01-18|   E345|            Printer|       1| 150.0|       150.0|             Printer|Electronics|            30|\n|   1005|      Emily Brown|emily.brown@email...|    5005|2024-01-19|   F678|             Tablet|       1| 300.0|       300.0|              Tablet|Electronics|            60|\n|   1006|      Chris Davis|chris.davis@email...|    5006|2024-01-20|   G901|         Headphones|       1| 100.0|       100.0|          Headphones|Electronics|           100|\n|   1007|     David Miller|david.miller@emai...|    5007|2024-01-21|   H234|             Webcam|       1|  50.0|        50.0|              Webcam|Electronics|            80|\n|   1008|     Olivia Moore|olivia.moore@emai...|    5008|2024-01-22|   I567|         Smartphone|       1| 700.0|       700.0|          Smartphone|Electronics|            40|\n|   1009|    Sophia Taylor|sophia.taylor@ema...|    5009|2024-01-23|   J890|External Hard Drive|       1| 150.0|       150.0| External Hard Drive|Electronics|            90|\n|   1010|   James Anderson|james.anderson@em...|    5010|2024-01-24|   K123|    USB Flash Drive|       3|  30.0|        90.0|     USB Flash Drive|Electronics|           300|\n|   1011|      Liam Thomas|liam.thomas@email...|    5011|2024-01-25|   L456|         Smartwatch|       1| 200.0|       200.0|          Smartwatch|Electronics|            50|\n|   1012|  Charlotte White|charlotte.white@e...|    5012|2024-01-26|   M789|  Bluetooth Speaker|       1| 120.0|       120.0|   Bluetooth Speaker|Electronics|            80|\n|   1013|Isabella Martinez|isabella.martinez...|    5013|2024-01-27|   N012|             Camera|       1| 600.0|       600.0|              Camera|Electronics|            20|\n|   1014|  Mason Hernandez|mason.hernandez@e...|    5014|2024-01-28|   O345|              Drone|       1| 400.0|       400.0|               Drone|Electronics|            25|\n|   1015|        Mia Lopez| mia.lopez@email.com|    5015|2024-01-29|   P678|         VR Headset|       1| 250.0|       250.0|          VR Headset|Electronics|            30|\n|   1016|   Lucas Gonzalez|lucas.gonzalez@em...|    5016|2024-01-30|   Q901|     Gaming Console|       1| 500.0|       500.0|      Gaming Console|Electronics|            40|\n|   1017|    Amelia Nguyen|amelia.nguyen@ema...|    5017|2024-01-31|   R234|             Router|       1|  80.0|        80.0|              Router|Electronics|            60|\n|   1018|        Ethan Lee| ethan.lee@email.com|    5018|2024-02-01|   S567|           Keyboard|       2|  70.0|       140.0|            Keyboard|Electronics|           150|\n|   1019|      Harper King|harper.king@email...|    5019|2024-02-02|   T890|              Mouse|       3|  20.0|        60.0|               Mouse|Electronics|           200|\n|   1022| Michael Robinson|michael.robinson@...|    5022|2024-02-05|   W789|  Bluetooth Earbuds|       1| 130.0|       130.0|   Bluetooth Earbuds|Electronics|            70|\n|   1023|      Ella Harris|ella.harris@email...|    5023|2024-02-06|   X012| Smartwatch Charger|       1|  25.0|        25.0|  Smartwatch Charger|Accessories|           150|\n|   1024|    Daniel Garcia|daniel.garcia@ema...|    5024|2024-02-07|   Y345|        Camera Lens|       1| 350.0|       350.0|         Camera Lens|Accessories|            30|\n|   1025|   Grace Martinez|grace.martinez@em...|    5025|2024-02-08|   Z678|       Tablet Stand|       1|  40.0|        40.0|        Tablet Stand|Accessories|            80|\n|   1026|     Samuel Young|samuel.young@emai...|    5026|2024-02-09|   A234|          Desk Lamp|       2|  60.0|       120.0|           Desk Lamp|  Furniture|            50|\n|   1027|      Avery Clark|avery.clark@email...|    5027|2024-02-10|   B567|       Office Chair|       1| 150.0|       150.0|        Office Chair|  Furniture|            20|\n|   1028|     Sofia Walker|sofia.walker@emai...|    5028|2024-02-11|   C890|     Desk Organizer|       1|  25.0|        25.0|      Desk Organizer|  Furniture|           100|\n|   1029|        Levi Hall| levi.hall@email.com|    5029|2024-02-12|   D123|       Laptop Stand|       1|  45.0|        45.0|        Laptop Stand|  Furniture|            70|\n|   1030|   Benjamin Allen|benjamin.allen@em...|    5030|2024-02-13|   E456|      Monitor Stand|       1|  35.0|        35.0|       Monitor Stand|  Furniture|            90|\n+-------+-----------------+--------------------+--------+----------+-------+-------------------+--------+------+------------+--------------------+-----------+--------------+\n\nroot\n|-- user_id: long\n|-- full_name: string\n|-- email: string\n|-- order_id: long\n|-- order_date: string\n|-- item_id: string\n|-- item_product_name: string\n|-- quantity: long\n|-- price: double\n|-- total_amount: double\n|-- product_product_name: string\n|-- category: string\n|-- stock_quantity: long\n",
					"output_type": "stream"
				}
			]
		},
		{
			"cell_type": "markdown",
			"source": "#### Write the data in the DynamicFrame to a location in Amazon S3 and a table for it in the AWS Glue Data Catalog\n",
			"metadata": {
				"editable": true,
				"trusted": true
			}
		},
		{
			"cell_type": "code",
			"source": "s3output = glueContext.getSink(\n  path = output_path,\n  connection_type=\"s3\",\n  updateBehavior=\"UPDATE_IN_DATABASE\",\n  partitionKeys=[],\n  compression=\"snappy\",\n  enableUpdateCatalog=True,\n  transformation_ctx=\"s3output\",\n)\ns3output.setCatalogInfo(\n  catalogDatabase=\"shopping_db\", catalogTableName=\"merged_data_table \"\n)\ns3output.setFormat(\"glueparquet\")\ns3output.writeFrame(merge_dyf)",
			"metadata": {
				"trusted": true,
				"editable": true
			},
			"execution_count": 25,
			"outputs": [
				{
					"name": "stdout",
					"text": "<awsglue.dynamicframe.DynamicFrame object at 0x7f8105275120>\n",
					"output_type": "stream"
				}
			]
		},
		{
			"cell_type": "code",
			"source": "",
			"metadata": {},
			"execution_count": null,
			"outputs": []
		}
	]
}